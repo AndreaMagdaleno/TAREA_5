{
 "cells": [
  {
   "cell_type": "code",
   "execution_count": null,
   "id": "4add601e",
   "metadata": {},
   "outputs": [],
   "source": [
    "import sympy as sp\n",
    "\n",
    "# Definir la variable y las funciones\n",
    "x = sp.symbols('x')\n",
    "f1 = sp.log(2*x, 10)\n",
    "f2 = 8**x\n",
    "\n",
    "# Límites de integración\n",
    "a = 1\n",
    "b = 5\n",
    "\n",
    "# Cantidades de términos en la aproximación\n",
    "num_terminos = [10, 100, 1000, 10000, 100000]\n",
    "\n",
    "# Crear una tabla para almacenar los resultados\n",
    "tabla_resultados = []\n",
    "\n",
    "# Realizar las integrales para cada cantidad de términos\n",
    "for n in num_terminos:\n",
    "    resultado_f1 = sp.integrate(f1, (x, a, b)).evalf()\n",
    "    resultado_f2 = sp.integrate(f2, (x, a, b)).evalf()\n",
    "    tabla_resultados.append([n, resultado_f1, resultado_f2])\n",
    "\n",
    "# Imprimir la tabla de resultados\n",
    "print(\"Términos\\t∫[log10(2x)]dx\\t∫[8^x]dx\")\n",
    "for fila in tabla_resultados:\n",
    "    print(\"\\t\".join(map(str, fila)))"
   ]
  },
  {
   "cell_type": "code",
   "execution_count": null,
   "id": "f4b41625",
   "metadata": {},
   "outputs": [],
   "source": [
    "import sympy as sp\n",
    "\n",
    "# Definir la variable y las funciones\n",
    "x = sp.symbols('x')\n",
    "f1 = sp.log(2*x, 10)\n",
    "f2 = 8**x\n",
    "\n",
    "# Límites de integración\n",
    "a = 1\n",
    "b = 5\n",
    "\n",
    "# Cantidades de términos en la aproximación\n",
    "num_terminos = [10, 100, 1000, 10000, 100000]\n",
    "\n",
    "# Crear una tabla para almacenar los resultados\n",
    "tabla_resultados = []\n",
    "\n",
    "# Realizar las integrales para cada cantidad de términos\n",
    "for n in num_terminos:\n",
    "    resultado_f1 = sp.integrate(f1, (x, a, b)).evalf()\n",
    "    resultado_f2 = sp.integrate(f2, (x, a, b)).evalf()\n",
    "    tabla_resultados.append([n, resultado_f1, resultado_f2])\n",
    "\n",
    "# Imprimir la tabla de resultados\n",
    "print(\"Términos\\t∫[log10(2x)]dx\\t∫[8^x]dx\")\n",
    "for fila in tabla_resultados:\n",
    "    print(\"\\t\".join(map(str, fila)))"
   ]
  }
 ],
 "metadata": {
  "kernelspec": {
   "display_name": "Python 3 (ipykernel)",
   "language": "python",
   "name": "python3"
  },
  "language_info": {
   "codemirror_mode": {
    "name": "ipython",
    "version": 3
   },
   "file_extension": ".py",
   "mimetype": "text/x-python",
   "name": "python",
   "nbconvert_exporter": "python",
   "pygments_lexer": "ipython3",
   "version": "3.11.4"
  }
 },
 "nbformat": 4,
 "nbformat_minor": 5
}
