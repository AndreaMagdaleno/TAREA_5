{
 "cells": [
  {
   "cell_type": "markdown",
   "id": "1b568d7b",
   "metadata": {},
   "source": [
    "Solución Oliver"
   ]
  },
  {
   "cell_type": "code",
   "execution_count": 8,
   "id": "612a124d",
   "metadata": {},
   "outputs": [
    {
     "ename": "ZeroDivisionError",
     "evalue": "float division by zero",
     "output_type": "error",
     "traceback": [
      "\u001b[1;31m---------------------------------------------------------------------------\u001b[0m",
      "\u001b[1;31mZeroDivisionError\u001b[0m                         Traceback (most recent call last)",
      "Cell \u001b[1;32mIn[8], line 40\u001b[0m\n\u001b[0;32m     38\u001b[0m \u001b[38;5;28;01mfor\u001b[39;00m num \u001b[38;5;129;01min\u001b[39;00m num_terminos:\n\u001b[0;32m     39\u001b[0m     area_aproximada \u001b[38;5;241m=\u001b[39m aproximar_area_monte_carlo(num)\n\u001b[1;32m---> 40\u001b[0m     error_relativo \u001b[38;5;241m=\u001b[39m (\u001b[38;5;28mabs\u001b[39m(area_aproximada \u001b[38;5;241m-\u001b[39m area_aproximada_anterior) \u001b[38;5;241m/\u001b[39m area_aproximada_anterior) \u001b[38;5;28;01mif\u001b[39;00m area_aproximada_anterior \u001b[38;5;129;01mis\u001b[39;00m \u001b[38;5;129;01mnot\u001b[39;00m \u001b[38;5;28;01mNone\u001b[39;00m \u001b[38;5;28;01melse\u001b[39;00m \u001b[38;5;241m0\u001b[39m\n\u001b[0;32m     41\u001b[0m     area_aproximada_anterior \u001b[38;5;241m=\u001b[39m area_aproximada\n\u001b[0;32m     42\u001b[0m     resultados\u001b[38;5;241m.\u001b[39mappend([num, area_aproximada, error_relativo])\n",
      "\u001b[1;31mZeroDivisionError\u001b[0m: float division by zero"
     ]
    }
   ],
   "source": [
    "import random\n",
    "import pandas as pd\n",
    "import matplotlib.pyplot as plt\n",
    "\n",
    "# Función para verificar si un punto (x, y) está dentro de la región\n",
    "def punto_esta_dentro(x, y):\n",
    "    return x**2 + 2*y**2 <= -2*x + 8*y - 7\n",
    "\n",
    "# Función para aproximar el área de la región utilizando Monte Carlo\n",
    "def aproximar_area_monte_carlo(num_puntos):\n",
    "    puntos_dentro = 0\n",
    "    a1, b1, a2, b2 = -2, 2, 0, 4  # Límites adecuados para la región\n",
    "\n",
    "    for _ in range(num_puntos):\n",
    "        x = random.uniform(a1, b1)\n",
    "        y = random.uniform(a2, b2)\n",
    "        if punto_esta_dentro(x, y):\n",
    "            puntos_dentro += 1\n",
    "\n",
    "    # Área total de la región rectangular\n",
    "    area_total = (b1 - a1) * (b2 - a2)\n",
    "\n",
    "    # Aproximación del área de la región\n",
    "    area_aproximada = area_total * (puntos_dentro / num_puntos)\n",
    "\n",
    "    return area_aproximada\n",
    "\n",
    "# Números de términos para la aproximación\n",
    "num_terminos = [1, 10, 100, 1000, 10000, 100000]\n",
    "\n",
    "# Crear una lista de resultados\n",
    "resultados = []\n",
    "\n",
    "# Inicializar la variable de área aproximada anterior\n",
    "area_aproximada_anterior = None\n",
    "\n",
    "# Calcular los resultados\n",
    "for num in num_terminos:\n",
    "    area_aproximada = aproximar_area_monte_carlo(num)\n",
    "    error_relativo = (abs(area_aproximada - area_aproximada_anterior) / area_aproximada_anterior) if area_aproximada_anterior is not None else 0\n",
    "    area_aproximada_anterior = area_aproximada\n",
    "    resultados.append([num, area_aproximada, error_relativo])\n",
    "\n",
    "# Crear un DataFrame de Pandas con los resultados\n",
    "df = pd.DataFrame(resultados, columns=[\"Cantidad de Términos\", \"Área Aproximada\", \"Error Relativo\"])\n",
    "\n",
    "# Mostrar la tabla\n",
    "df\n",
    "\n"
   ]
  },
  {
   "cell_type": "markdown",
   "id": "21f237e4",
   "metadata": {},
   "source": [
    "solución Andrea"
   ]
  },
  {
   "cell_type": "code",
   "execution_count": 10,
   "id": "012d57a4",
   "metadata": {},
   "outputs": [
    {
     "data": {
      "image/png": "[encoded data removed]",
      "text/plain": [
       "<Figure size 900x900 with 1 Axes>"
      ]
     },
     "metadata": {},
     "output_type": "display_data"
    },
    {
     "data": {
      "text/html": [
       "<div>\n",
       "<style scoped>\n",
       "    .dataframe tbody tr th:only-of-type {\n",
       "        vertical-align: middle;\n",
       "    }\n",
       "\n",
       "    .dataframe tbody tr th {\n",
       "        vertical-align: top;\n",
       "    }\n",
       "\n",
       "    .dataframe thead th {\n",
       "        text-align: right;\n",
       "    }\n",
       "</style>\n",
       "<table border=\"1\" class=\"dataframe\">\n",
       "  <thead>\n",
       "    <tr style=\"text-align: right;\">\n",
       "      <th></th>\n",
       "      <th>Aproximación</th>\n",
       "    </tr>\n",
       "  </thead>\n",
       "  <tbody>\n",
       "    <tr>\n",
       "      <th>10</th>\n",
       "      <td>0.2</td>\n",
       "    </tr>\n",
       "    <tr>\n",
       "      <th>100</th>\n",
       "      <td>0.14</td>\n",
       "    </tr>\n",
       "    <tr>\n",
       "      <th>1000</th>\n",
       "      <td>0.208</td>\n",
       "    </tr>\n",
       "    <tr>\n",
       "      <th>10000</th>\n",
       "      <td>0.2216</td>\n",
       "    </tr>\n",
       "    <tr>\n",
       "      <th>100000</th>\n",
       "      <td>0.2231</td>\n",
       "    </tr>\n",
       "    <tr>\n",
       "      <th>1000000</th>\n",
       "      <td>0.225114</td>\n",
       "    </tr>\n",
       "    <tr>\n",
       "      <th>10000000</th>\n",
       "      <td>0.22453</td>\n",
       "    </tr>\n",
       "  </tbody>\n",
       "</table>\n",
       "</div>"
      ],
      "text/plain": [
       "         Aproximación\n",
       "10                0.2\n",
       "100              0.14\n",
       "1000            0.208\n",
       "10000          0.2216\n",
       "100000         0.2231\n",
       "1000000      0.225114\n",
       "10000000      0.22453"
      ]
     },
     "execution_count": 10,
     "metadata": {},
     "output_type": "execute_result"
    }
   ],
   "source": [
    "import pandas as pd\n",
    "import numpy as np\n",
    "import matplotlib.pyplot as plt\n",
    "\n",
    "# Escribir la función acá\n",
    "def montecarlo2(region, a1, b1, a2, b2, N):\n",
    "    AR = (b1-a1)*(b2-a2)\n",
    "    x = np.random.uniform(a1, b1, N)\n",
    "    y = np.random.uniform(a2, b2, N)\n",
    "    bi = region(x, y)\n",
    "    AD_approx = AR*np.mean(bi)\n",
    "    return AD_approx\n",
    "\n",
    "def region(x, y):\n",
    "    return x**2*2*y**2<= -2*x +8*y-7\n",
    "xnum = np.linspace(-1, 1, 500)\n",
    "ynum = np.linspace(0, 1, 500)\n",
    "\n",
    "X, Y = np.meshgrid(xnum, ynum)\n",
    "\n",
    "##~\n",
    "plt.figure(figsize=(9, 9))\n",
    "\n",
    "# Grafica los puntos del rectangulo R que estan dentro de la region D\n",
    "plt.scatter(X, Y, c=~region(X,Y), cmap='bone') \n",
    "\n",
    "plt.grid()\n",
    "plt.show()\n",
    "\n",
    "# Resolver\n",
    "a1, b1, a2, b2 = -1, 1, 0, 1\n",
    "\n",
    "# Cantidad de términos a utilizar para la aproximación\n",
    "N = np.logspace(1, 7, 7).astype(int)\n",
    "\n",
    "# Crear la tabla (DataFrame de pandas)\n",
    "tabla1 = pd.DataFrame(index = N, columns=['Aproximación'])\n",
    "\n",
    "for n in N:\n",
    "    area_aprox = montecarlo2(region, a1, b1, a2, b2, n)\n",
    "    tabla1.loc[n, 'Aproximación'] = area_aprox\n",
    "\n",
    "\n",
    "tabla1"
   ]
  }
 ],
 "metadata": {
  "kernelspec": {
   "display_name": "Python 3 (ipykernel)",
   "language": "python",
   "name": "python3"
  },
  "language_info": {
   "codemirror_mode": {
    "name": "ipython",
    "version": 3
   },
   "file_extension": ".py",
   "mimetype": "text/x-python",
   "name": "python",
   "nbconvert_exporter": "python",
   "pygments_lexer": "ipython3",
   "version": "3.11.4"
  }
 },
 "nbformat": 4,
 "nbformat_minor": 5
}
